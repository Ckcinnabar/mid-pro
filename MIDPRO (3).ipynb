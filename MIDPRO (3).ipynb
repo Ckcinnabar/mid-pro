{
  "nbformat": 4,
  "nbformat_minor": 0,
  "metadata": {
    "colab": {
      "provenance": [],
      "collapsed_sections": [
        "MjRKy_cRaFfP",
        "uL40LVxauPKd",
        "LxAoAK-S2c57"
      ],
      "toc_visible": true
    },
    "kernelspec": {
      "name": "python3",
      "display_name": "Python 3"
    },
    "language_info": {
      "name": "python"
    },
    "gpuClass": "standard"
  },
  "cells": [
    {
      "cell_type": "markdown",
      "source": [
        "# code\n"
      ],
      "metadata": {
        "id": "MjRKy_cRaFfP"
      }
    },
    {
      "cell_type": "code",
      "source": [
        "import pandas as pd\n",
        "import chardet\n",
        "import numpy as np\n",
        "import matplotlib.pyplot as plt\n",
        "from sklearn.model_selection import train_test_split, cross_val_score\n",
        "from sklearn.ensemble import RandomForestClassifier\n",
        "from sklearn.metrics import accuracy_score\n",
        "!pip install modAL\n",
        "\n",
        "from modAL.models import ActiveLearner\n",
        "from modAL.uncertainty import uncertainty_sampling\n",
        "from IPython import display\n",
        "\n",
        "pd.read_csv(\"202209_YouBike2.0票證刷卡資料.csv\",encoding = \"utf-8\")\n",
        "with open('202209_YouBike2.0票證刷卡資料.csv', 'rb') as f:\n",
        "    result = chardet.detect(f.read())\n",
        "\n",
        "try:\n",
        "    df = pd.read_csv('202209_YouBike2.0票證刷卡資料.csv', encoding=result['encoding'])\n",
        "except UnicodeDecodeError:\n",
        "    df = pd.read_csv('202209_YouBike2.0票證刷卡資料.csv', encoding='ISO-8859-1')\n",
        "df['rent_time'] = pd.to_datetime(df['rent_time'])\n",
        "df['return_time'] = pd.to_datetime(df['return_time'])\n",
        "df['rent'] = pd.to_timedelta(df['rent'])\n",
        "df['infodate'] = pd.to_datetime(df['infodate'])\n",
        "df['hour'] = df['rent_time'].dt.hour\n",
        "df['weekday'] = df['rent_time'].dt.weekday\n",
        "df['is_weekend'] = (df['weekday'] >= 5).astype(int)\n",
        "hourly_counts = df.groupby(['rent_station', 'hour'])['rent'].count().reset_index(name='hourly_count')\n",
        "def calculate_no_bike(df, threshold=5):\n",
        "    \n",
        "    avg_hourly_counts = df.groupby(['rent_station', 'hour'])['rent'].count().mean(level=0)\n",
        "    \n",
        "    no_bike = df['rent_station'].map(avg_hourly_counts) < threshold\n",
        "    \n",
        "    return no_bike\n",
        "\n",
        "hourly_counts['no_bike'] = calculate_no_bike(df)\n",
        "hourly_counts['no_bike'] = hourly_counts['no_bike'].astype(bool)\n",
        "\n",
        "rent_station_encoded = pd.get_dummies(hourly_counts['rent_station'], prefix='rent_station')\n",
        "hourly_counts_encoded = pd.concat([hourly_counts.drop(columns=['rent_station']), rent_station_encoded], axis=1)\n",
        "\n",
        "hourly_counts_encoded = hourly_counts_encoded.fillna(0)\n",
        "\n",
        "def calculate_no_station(df, threshold=5):\n",
        "    avg_hourly_return_counts = df.groupby(['return_station', 'hour_return'])['rent'].count().mean(level=0)\n",
        "    no_station = df['return_station'].map(avg_hourly_return_counts) >= threshold\n",
        "    return no_station\n",
        "\n",
        "df['hour_return'] = df['return_time'].dt.hour\n",
        "hourly_counts_return = df.groupby(['return_station', 'hour_return'])['rent'].count().reset_index(name='hourly_return_count')\n",
        "\n",
        "hourly_counts_return['no_station'] = calculate_no_station(df)\n",
        "hourly_counts_return['no_station'] = hourly_counts_return['no_station'].astype(bool)\n",
        "\n",
        "return_station_encoded = pd.get_dummies(hourly_counts_return['return_station'], prefix='return_station')\n",
        "hourly_counts_encoded_return = pd.concat([hourly_counts_return.drop(columns=['return_station']), return_station_encoded], axis=1)\n",
        "\n",
        "hourly_counts_encoded_return = hourly_counts_encoded_return.fillna(0)\n",
        "\n",
        "X_train_no_bike, X_test_no_bike, y_train_no_bike, y_test_no_bike = train_test_split(hourly_counts_encoded.drop(columns=['no_bike']), hourly_counts_encoded['no_bike'], test_size=0.3, random_state=42)\n",
        "\n",
        "clf_no_bike = RandomForestClassifier(n_estimators=100, random_state=42)\n",
        "clf_no_bike.fit(X_train_no_bike, y_train_no_bike)\n",
        "y_pred_no_bike = clf_no_bike.predict(X_test_no_bike)\n",
        "accuracy_no_bike = accuracy_score(y_test_no_bike, y_pred_no_bike)\n",
        "print(\"No Bike Accuracy:\", accuracy_no_bike)\n",
        "\n",
        "X_train_no_station, X_test_no_station, y_train_no_station, y_test_no_station = train_test_split(hourly_counts_encoded_return.drop(columns=['no_station']), hourly_counts_encoded_return['no_station'], test_size=0.3, random_state=42)\n",
        "\n",
        "clf_no_station = RandomForestClassifier(n_estimators=100, random_state=42)\n",
        "clf_no_station.fit(X_train_no_station, y_train_no_station)\n",
        "y_pred_no_station = clf_no_station.predict(X_test_no_station)\n",
        "accuracy_no_station = accuracy_score(y_test_no_station, y_pred_no_station)\n",
        "print(\"No Station Accuracy:\", accuracy_no_station)\n",
        "\n",
        "base_clf = RandomForestClassifier(n_estimators=100, random_state=42)\n",
        "\n",
        "learner_b = ActiveLearner(\n",
        "    estimator=base_clf,\n",
        "    X_training=X_train_no_bike.to_numpy(),\n",
        "    y_training=y_train_no_bike.to_numpy(),\n",
        "    query_strategy=uncertainty_sampling\n",
        ")\n",
        "\n",
        "X_pool_b, y_pool_b = X_test_no_bike.to_numpy(), y_test_no_bike.to_numpy()\n",
        "accuracy_scores = [learner_b.score(X_test_no_bike, y_test_no_bike)]\n",
        "\n",
        "n_queries = 30\n",
        "for i in range(n_queries):\n",
        "    display.clear_output(wait=True)\n",
        "    query_idx, query_inst = learner_b.query(X_pool_b)\n",
        "    \n",
        "    y_new = y_pool_b[query_idx].reshape(1, )\n",
        "    learner_b.teach(query_inst.reshape(1, -1), y_new)\n",
        "    \n",
        "    X_pool_b, y_pool_b = np.delete(X_pool_b, query_idx, axis=0), np.delete(y_pool_b, query_idx, axis=0)\n",
        "    \n",
        "    accuracy_scores.append(learner_b.score(X_test_no_bike, y_test_no_bike))\n",
        "\n",
        "    plt.figure(figsize=(10, 5))\n",
        "    plt.plot(range(i + 2), accuracy_scores)\n",
        "    plt.scatter(range(i + 2), accuracy_scores)\n",
        "    plt.xlabel('Number of Queries')\n",
        "    plt.ylabel('Accuracy')\n",
        "    plt.title('Accuracy of the Model')\n",
        "    display.display(plt.gcf())\n",
        "    plt.close('all')\n",
        "    print(accuracy_scores)\n",
        "\n",
        "average_accuracy_b = np.mean(accuracy_scores)\n",
        "print(\"Average accuracy:\", average_accuracy_b)\n",
        "\n",
        "learner_s = ActiveLearner(\n",
        "    estimator=base_clf,\n",
        "    X_training=X_train_no_station.to_numpy(),\n",
        "    y_training=y_train_no_station.to_numpy(),\n",
        "    query_strategy=uncertainty_sampling\n",
        ")\n",
        "\n",
        "X_pool_s, y_pool_s = X_test_no_station.to_numpy(), y_test_no_station.to_numpy()\n",
        "accuracy_scores = [learner_s.score(X_test_no_station, y_test_no_station)]\n",
        "\n",
        "n_queries = 30\n",
        "for i in range(n_queries):\n",
        "    display.clear_output(wait=True)\n",
        "    query_idx, query_inst = learner_s.query(X_pool_s)\n",
        "    \n",
        "    y_new_s = y_pool_s[query_idx].reshape(1, )\n",
        "    learner_s.teach(query_inst.reshape(1, -1), y_new_s)\n",
        "    \n",
        "    X_pool_s, y_pool_s = np.delete(X_pool_s, query_idx, axis=0), np.delete(y_pool_s, query_idx, axis=0)\n",
        "    \n",
        "    accuracy_scores.append(learner_s.score(X_test_no_station, y_test_no_station))\n",
        "\n",
        "    plt.figure(figsize=(10, 5))\n",
        "    plt.plot(range(i + 2), accuracy_scores)\n",
        "    plt.scatter(range(i + 2), accuracy_scores)\n",
        "    plt.xlabel('Number of Queries')\n",
        "    plt.ylabel('Accuracy')\n",
        "    plt.title('Accuracy of the Model')\n",
        "    display.display(plt.gcf())\n",
        "    plt.close('all')\n",
        "    print(accuracy_scores)\n",
        "\n",
        "average_accuracy_s = np.mean(accuracy_scores)\n",
        "print(\"Average accuracy:\", average_accuracy_s)"
      ],
      "metadata": {
        "id": "x1poOGriMklp"
      },
      "execution_count": null,
      "outputs": []
    },
    {
      "cell_type": "code",
      "source": [
        "station_name_input = input(\"請輸入租賃站名稱：\")\n",
        "current_hour_input = int(input(\"請輸入當前時間的小時數（24小時制）：\"))\n",
        "current_weekday_put = int(input(\"請輸入當前的星期幾，以數字表示（例如星期一為1，星期二為2）：\"))\n",
        "current_bikes_input = int(input(\"請輸入該租賃站當前可用的單車數量：\"))\n",
        "\n",
        "def predict_no_bike_no_station(station_name, current_hour, current_weekday, current_bikes,learner_no_bike, learner_no_station, rent_station_columns, return_station_columns ):\n",
        "    rent_station_encoded = encode_rent_station(station_name, rent_station_columns)\n",
        "    return_station_encoded = encode_return_station(station_name, return_station_columns)\n",
        "\n",
        "    X_no_bike = pd.DataFrame({\n",
        "        'hour': [current_hour],\n",
        "        'weekday': [current_weekday],\n",
        "        'is_weekend': [int(current_weekday >= 5)],\n",
        "        **dict(zip(rent_station_columns, rent_station_encoded))\n",
        "    })\n",
        "\n",
        "    X_no_station = pd.DataFrame({\n",
        "        'hour': [current_hour],\n",
        "        'weekday': [current_weekday],\n",
        "        'is_weekend': [int(current_weekday >= 5)],\n",
        "        **dict(zip(return_station_columns, return_station_encoded))\n",
        "    })\n",
        "\n",
        "    no_bike_pred = learner_no_bike.predict(X_no_bike)\n",
        "    no_station_pred = learner_no_station.predict(X_no_station)\n",
        "\n",
        "    result = {\n",
        "        'station_name': station_name,\n",
        "        'no_bike': \"有\" if no_bike_pred[0] else \"無\",\n",
        "        'no_station': \"有\" if no_station_pred[0] else \"無\"\n",
        "    }\n",
        "\n",
        "    return result\n",
        "\n",
        "def encode_rent_station(station_name, rent_station_columns):\n",
        "    return [1 if col == f\"rent_station_{station_name}\" else 0 for col in rent_station_columns]\n",
        "\n",
        "def encode_return_station(station_name, return_station_columns):\n",
        "    return [1 if col == f\"return_station_{station_name}\" else 0 for col in return_station_columns]\n",
        "\n",
        "def predict_from_input(station_name_input, current_hour_input, current_weekday_input, current_bikes_input):\n",
        "    result = predict_no_bike_no_station(station_name_input, current_hour_input, current_weekday_input, current_bikes_input, learner_b, learner_s, X_train_no_bike.columns[3:], X_train_no_station.columns[3:])\n",
        "    return result\n",
        "\n",
        "result = predict_from_input(station_name_input, current_hour_input, current_weekday_put, current_bikes_input)\n",
        "print(result)\n"
      ],
      "metadata": {
        "id": "n-EK3FZYaOcX"
      },
      "execution_count": null,
      "outputs": []
    },
    {
      "cell_type": "markdown",
      "source": [
        "#MID PROJECT\n"
      ],
      "metadata": {
        "id": "BwOqjSn02Kq4"
      }
    },
    {
      "cell_type": "markdown",
      "source": [
        "## **1. 引入library跟安裝modAl**\n",
        "\n",
        "\n"
      ],
      "metadata": {
        "id": "E3AjqKZ4sQhP"
      }
    },
    {
      "cell_type": "code",
      "source": [
        "import pandas as pd\n",
        "import chardet\n",
        "import numpy as np\n",
        "import matplotlib.pyplot as plt\n",
        "from sklearn.model_selection import train_test_split, cross_val_score\n",
        "from sklearn.ensemble import RandomForestClassifier\n",
        "from sklearn.metrics import accuracy_score\n",
        "!pip install modAL"
      ],
      "metadata": {
        "id": "NF04OvPVcVOu",
        "colab": {
          "base_uri": "https://localhost:8080/"
        },
        "outputId": "bc5fefd2-87c1-42ee-90ac-5e5615e2b546"
      },
      "execution_count": null,
      "outputs": [
        {
          "output_type": "stream",
          "name": "stdout",
          "text": [
            "Looking in indexes: https://pypi.org/simple, https://us-python.pkg.dev/colab-wheels/public/simple/\n",
            "Requirement already satisfied: modAL in /usr/local/lib/python3.9/dist-packages (0.4.1)\n",
            "Requirement already satisfied: scikit-learn>=0.18 in /usr/local/lib/python3.9/dist-packages (from modAL) (1.2.2)\n",
            "Requirement already satisfied: pandas>=1.1.0 in /usr/local/lib/python3.9/dist-packages (from modAL) (1.5.3)\n",
            "Requirement already satisfied: scipy>=0.18 in /usr/local/lib/python3.9/dist-packages (from modAL) (1.10.1)\n",
            "Requirement already satisfied: numpy>=1.13 in /usr/local/lib/python3.9/dist-packages (from modAL) (1.22.4)\n",
            "Requirement already satisfied: python-dateutil>=2.8.1 in /usr/local/lib/python3.9/dist-packages (from pandas>=1.1.0->modAL) (2.8.2)\n",
            "Requirement already satisfied: pytz>=2020.1 in /usr/local/lib/python3.9/dist-packages (from pandas>=1.1.0->modAL) (2022.7.1)\n",
            "Requirement already satisfied: threadpoolctl>=2.0.0 in /usr/local/lib/python3.9/dist-packages (from scikit-learn>=0.18->modAL) (3.1.0)\n",
            "Requirement already satisfied: joblib>=1.1.1 in /usr/local/lib/python3.9/dist-packages (from scikit-learn>=0.18->modAL) (1.2.0)\n",
            "Requirement already satisfied: six>=1.5 in /usr/local/lib/python3.9/dist-packages (from python-dateutil>=2.8.1->pandas>=1.1.0->modAL) (1.16.0)\n"
          ]
        }
      ]
    },
    {
      "cell_type": "code",
      "source": [
        "from modAL.models import ActiveLearner\n",
        "from modAL.uncertainty import uncertainty_sampling\n",
        "from IPython import display\n",
        "from sklearn.compose import ColumnTransformer\n"
      ],
      "metadata": {
        "id": "1MHpPdgYuq52"
      },
      "execution_count": null,
      "outputs": []
    },
    {
      "cell_type": "markdown",
      "source": [
        "## **2. 資料集處理**"
      ],
      "metadata": {
        "id": "ybzSkb-tsqPY"
      }
    },
    {
      "cell_type": "markdown",
      "source": [
        "打開 CSV 檔案並檢測其編碼方式\n",
        "\n",
        "\n",
        "\n",
        "---\n",
        "\n",
        "\n",
        "嘗試以檢測到的編碼方式讀取 CSV 檔案，若失敗則以 ISO-8859-1 編碼讀取"
      ],
      "metadata": {
        "id": "tDyPcdD-s_fP"
      }
    },
    {
      "cell_type": "code",
      "source": [
        "pd.read_csv(\"202209_YouBike2.0票證刷卡資料.csv\",encoding = \"utf-8\")"
      ],
      "metadata": {
        "colab": {
          "base_uri": "https://localhost:8080/",
          "height": 423
        },
        "id": "YtRDDoOSwDfe",
        "outputId": "06ed9d01-ebc2-4a33-e294-685c1bcba5b8"
      },
      "execution_count": null,
      "outputs": [
        {
          "output_type": "execute_result",
          "data": {
            "text/plain": [
              "                  rent_time   rent_station          return_time  \\\n",
              "0       2022-09-30 21:00:00  捷運大湖公園站(2號出口)  2022-09-30 21:00:00   \n",
              "1       2022-09-30 21:00:00  捷運大湖公園站(2號出口)  2022-09-30 21:00:00   \n",
              "2       2022-09-30 21:00:00  捷運大湖公園站(2號出口)  2022-09-30 21:00:00   \n",
              "3       2022-09-30 21:00:00  捷運大湖公園站(2號出口)  2022-09-30 21:00:00   \n",
              "4       2022-09-30 22:00:00  捷運大湖公園站(2號出口)  2022-09-30 22:00:00   \n",
              "...                     ...            ...                  ...   \n",
              "108282  2022-09-05 16:00:00         關渡自然公園  2022-09-05 17:00:00   \n",
              "108283  2022-09-05 08:00:00           關渡醫院  2022-09-05 08:00:00   \n",
              "108284  2022-09-05 20:00:00           關渡醫院  2022-09-05 20:00:00   \n",
              "108285  2022-09-05 22:00:00    捷運忠義站(1號出口)  2022-09-05 22:00:00   \n",
              "108286  2022-09-05 09:00:00    捷運忠義站(1號出口)              2022-09   \n",
              "\n",
              "       return_station      rent    infodate  \n",
              "0              安湖三號公園  00:12:27  2022-09-30  \n",
              "1            康寧公園(北側)  00:12:56  2022-09-30  \n",
              "2                大湖國小  00:11:10  2022-09-30  \n",
              "3                康樂綠地  00:29:07  2022-09-30  \n",
              "4                大湖國小  00:03:55  2022-09-30  \n",
              "...               ...       ...         ...  \n",
              "108282           關渡醫院  00:55:40  2022-09-05  \n",
              "108283    捷運關渡站(1號出口)  00:03:07  2022-09-05  \n",
              "108284    捷運關渡站(1號出口)  00:05:17  2022-09-05  \n",
              "108285    捷運忠義站(1號出口)  00:09:11  2022-09-05  \n",
              "108286            NaN       NaN         NaN  \n",
              "\n",
              "[108287 rows x 6 columns]"
            ],
            "text/html": [
              "\n",
              "  <div id=\"df-c4617940-df90-4504-9f88-9463557f0660\">\n",
              "    <div class=\"colab-df-container\">\n",
              "      <div>\n",
              "<style scoped>\n",
              "    .dataframe tbody tr th:only-of-type {\n",
              "        vertical-align: middle;\n",
              "    }\n",
              "\n",
              "    .dataframe tbody tr th {\n",
              "        vertical-align: top;\n",
              "    }\n",
              "\n",
              "    .dataframe thead th {\n",
              "        text-align: right;\n",
              "    }\n",
              "</style>\n",
              "<table border=\"1\" class=\"dataframe\">\n",
              "  <thead>\n",
              "    <tr style=\"text-align: right;\">\n",
              "      <th></th>\n",
              "      <th>rent_time</th>\n",
              "      <th>rent_station</th>\n",
              "      <th>return_time</th>\n",
              "      <th>return_station</th>\n",
              "      <th>rent</th>\n",
              "      <th>infodate</th>\n",
              "    </tr>\n",
              "  </thead>\n",
              "  <tbody>\n",
              "    <tr>\n",
              "      <th>0</th>\n",
              "      <td>2022-09-30 21:00:00</td>\n",
              "      <td>捷運大湖公園站(2號出口)</td>\n",
              "      <td>2022-09-30 21:00:00</td>\n",
              "      <td>安湖三號公園</td>\n",
              "      <td>00:12:27</td>\n",
              "      <td>2022-09-30</td>\n",
              "    </tr>\n",
              "    <tr>\n",
              "      <th>1</th>\n",
              "      <td>2022-09-30 21:00:00</td>\n",
              "      <td>捷運大湖公園站(2號出口)</td>\n",
              "      <td>2022-09-30 21:00:00</td>\n",
              "      <td>康寧公園(北側)</td>\n",
              "      <td>00:12:56</td>\n",
              "      <td>2022-09-30</td>\n",
              "    </tr>\n",
              "    <tr>\n",
              "      <th>2</th>\n",
              "      <td>2022-09-30 21:00:00</td>\n",
              "      <td>捷運大湖公園站(2號出口)</td>\n",
              "      <td>2022-09-30 21:00:00</td>\n",
              "      <td>大湖國小</td>\n",
              "      <td>00:11:10</td>\n",
              "      <td>2022-09-30</td>\n",
              "    </tr>\n",
              "    <tr>\n",
              "      <th>3</th>\n",
              "      <td>2022-09-30 21:00:00</td>\n",
              "      <td>捷運大湖公園站(2號出口)</td>\n",
              "      <td>2022-09-30 21:00:00</td>\n",
              "      <td>康樂綠地</td>\n",
              "      <td>00:29:07</td>\n",
              "      <td>2022-09-30</td>\n",
              "    </tr>\n",
              "    <tr>\n",
              "      <th>4</th>\n",
              "      <td>2022-09-30 22:00:00</td>\n",
              "      <td>捷運大湖公園站(2號出口)</td>\n",
              "      <td>2022-09-30 22:00:00</td>\n",
              "      <td>大湖國小</td>\n",
              "      <td>00:03:55</td>\n",
              "      <td>2022-09-30</td>\n",
              "    </tr>\n",
              "    <tr>\n",
              "      <th>...</th>\n",
              "      <td>...</td>\n",
              "      <td>...</td>\n",
              "      <td>...</td>\n",
              "      <td>...</td>\n",
              "      <td>...</td>\n",
              "      <td>...</td>\n",
              "    </tr>\n",
              "    <tr>\n",
              "      <th>108282</th>\n",
              "      <td>2022-09-05 16:00:00</td>\n",
              "      <td>關渡自然公園</td>\n",
              "      <td>2022-09-05 17:00:00</td>\n",
              "      <td>關渡醫院</td>\n",
              "      <td>00:55:40</td>\n",
              "      <td>2022-09-05</td>\n",
              "    </tr>\n",
              "    <tr>\n",
              "      <th>108283</th>\n",
              "      <td>2022-09-05 08:00:00</td>\n",
              "      <td>關渡醫院</td>\n",
              "      <td>2022-09-05 08:00:00</td>\n",
              "      <td>捷運關渡站(1號出口)</td>\n",
              "      <td>00:03:07</td>\n",
              "      <td>2022-09-05</td>\n",
              "    </tr>\n",
              "    <tr>\n",
              "      <th>108284</th>\n",
              "      <td>2022-09-05 20:00:00</td>\n",
              "      <td>關渡醫院</td>\n",
              "      <td>2022-09-05 20:00:00</td>\n",
              "      <td>捷運關渡站(1號出口)</td>\n",
              "      <td>00:05:17</td>\n",
              "      <td>2022-09-05</td>\n",
              "    </tr>\n",
              "    <tr>\n",
              "      <th>108285</th>\n",
              "      <td>2022-09-05 22:00:00</td>\n",
              "      <td>捷運忠義站(1號出口)</td>\n",
              "      <td>2022-09-05 22:00:00</td>\n",
              "      <td>捷運忠義站(1號出口)</td>\n",
              "      <td>00:09:11</td>\n",
              "      <td>2022-09-05</td>\n",
              "    </tr>\n",
              "    <tr>\n",
              "      <th>108286</th>\n",
              "      <td>2022-09-05 09:00:00</td>\n",
              "      <td>捷運忠義站(1號出口)</td>\n",
              "      <td>2022-09</td>\n",
              "      <td>NaN</td>\n",
              "      <td>NaN</td>\n",
              "      <td>NaN</td>\n",
              "    </tr>\n",
              "  </tbody>\n",
              "</table>\n",
              "<p>108287 rows × 6 columns</p>\n",
              "</div>\n",
              "      <button class=\"colab-df-convert\" onclick=\"convertToInteractive('df-c4617940-df90-4504-9f88-9463557f0660')\"\n",
              "              title=\"Convert this dataframe to an interactive table.\"\n",
              "              style=\"display:none;\">\n",
              "        \n",
              "  <svg xmlns=\"http://www.w3.org/2000/svg\" height=\"24px\"viewBox=\"0 0 24 24\"\n",
              "       width=\"24px\">\n",
              "    <path d=\"M0 0h24v24H0V0z\" fill=\"none\"/>\n",
              "    <path d=\"M18.56 5.44l.94 2.06.94-2.06 2.06-.94-2.06-.94-.94-2.06-.94 2.06-2.06.94zm-11 1L8.5 8.5l.94-2.06 2.06-.94-2.06-.94L8.5 2.5l-.94 2.06-2.06.94zm10 10l.94 2.06.94-2.06 2.06-.94-2.06-.94-.94-2.06-.94 2.06-2.06.94z\"/><path d=\"M17.41 7.96l-1.37-1.37c-.4-.4-.92-.59-1.43-.59-.52 0-1.04.2-1.43.59L10.3 9.45l-7.72 7.72c-.78.78-.78 2.05 0 2.83L4 21.41c.39.39.9.59 1.41.59.51 0 1.02-.2 1.41-.59l7.78-7.78 2.81-2.81c.8-.78.8-2.07 0-2.86zM5.41 20L4 18.59l7.72-7.72 1.47 1.35L5.41 20z\"/>\n",
              "  </svg>\n",
              "      </button>\n",
              "      \n",
              "  <style>\n",
              "    .colab-df-container {\n",
              "      display:flex;\n",
              "      flex-wrap:wrap;\n",
              "      gap: 12px;\n",
              "    }\n",
              "\n",
              "    .colab-df-convert {\n",
              "      background-color: #E8F0FE;\n",
              "      border: none;\n",
              "      border-radius: 50%;\n",
              "      cursor: pointer;\n",
              "      display: none;\n",
              "      fill: #1967D2;\n",
              "      height: 32px;\n",
              "      padding: 0 0 0 0;\n",
              "      width: 32px;\n",
              "    }\n",
              "\n",
              "    .colab-df-convert:hover {\n",
              "      background-color: #E2EBFA;\n",
              "      box-shadow: 0px 1px 2px rgba(60, 64, 67, 0.3), 0px 1px 3px 1px rgba(60, 64, 67, 0.15);\n",
              "      fill: #174EA6;\n",
              "    }\n",
              "\n",
              "    [theme=dark] .colab-df-convert {\n",
              "      background-color: #3B4455;\n",
              "      fill: #D2E3FC;\n",
              "    }\n",
              "\n",
              "    [theme=dark] .colab-df-convert:hover {\n",
              "      background-color: #434B5C;\n",
              "      box-shadow: 0px 1px 3px 1px rgba(0, 0, 0, 0.15);\n",
              "      filter: drop-shadow(0px 1px 2px rgba(0, 0, 0, 0.3));\n",
              "      fill: #FFFFFF;\n",
              "    }\n",
              "  </style>\n",
              "\n",
              "      <script>\n",
              "        const buttonEl =\n",
              "          document.querySelector('#df-c4617940-df90-4504-9f88-9463557f0660 button.colab-df-convert');\n",
              "        buttonEl.style.display =\n",
              "          google.colab.kernel.accessAllowed ? 'block' : 'none';\n",
              "\n",
              "        async function convertToInteractive(key) {\n",
              "          const element = document.querySelector('#df-c4617940-df90-4504-9f88-9463557f0660');\n",
              "          const dataTable =\n",
              "            await google.colab.kernel.invokeFunction('convertToInteractive',\n",
              "                                                     [key], {});\n",
              "          if (!dataTable) return;\n",
              "\n",
              "          const docLinkHtml = 'Like what you see? Visit the ' +\n",
              "            '<a target=\"_blank\" href=https://colab.research.google.com/notebooks/data_table.ipynb>data table notebook</a>'\n",
              "            + ' to learn more about interactive tables.';\n",
              "          element.innerHTML = '';\n",
              "          dataTable['output_type'] = 'display_data';\n",
              "          await google.colab.output.renderOutput(dataTable, element);\n",
              "          const docLink = document.createElement('div');\n",
              "          docLink.innerHTML = docLinkHtml;\n",
              "          element.appendChild(docLink);\n",
              "        }\n",
              "      </script>\n",
              "    </div>\n",
              "  </div>\n",
              "  "
            ]
          },
          "metadata": {},
          "execution_count": 11
        }
      ]
    },
    {
      "cell_type": "code",
      "source": [
        "with open('202209_YouBike2.0票證刷卡資料.csv', 'rb') as f:\n",
        "    result = chardet.detect(f.read())\n",
        "\n",
        "try:\n",
        "    df = pd.read_csv('202209_YouBike2.0票證刷卡資料.csv', encoding=result['encoding'])\n",
        "except UnicodeDecodeError:\n",
        "    df = pd.read_csv('202209_YouBike2.0票證刷卡資料.csv', encoding='ISO-8859-1')"
      ],
      "metadata": {
        "id": "6jnhDjgEtM3O"
      },
      "execution_count": null,
      "outputs": []
    },
    {
      "cell_type": "markdown",
      "source": [
        "\n",
        "\n",
        "1.   將 rent_time、return_time、rent 和 infodate 欄位轉換為對應的時間格式\n",
        "\n",
        "---\n",
        "\n",
        "\n",
        "2.   新增 hour 和 weekday 欄位，分別表示租借時間的小時數和星期幾\n",
        "\n",
        "\n",
        "\n",
        "---\n",
        "3. 新增 is_weekend 欄位，表示該時間是否為週末\n",
        "\n",
        "---\n",
        "4.  對每個租借站和小時統計租借次數\n",
        "\n",
        "\n",
        "\n"
      ],
      "metadata": {
        "id": "7PdWw4wKtObh"
      }
    },
    {
      "cell_type": "code",
      "source": [
        "df['rent_time'] = pd.to_datetime(df['rent_time'])\n",
        "df['return_time'] = pd.to_datetime(df['return_time'])\n",
        "df['rent'] = pd.to_timedelta(df['rent'])\n",
        "df['infodate'] = pd.to_datetime(df['infodate'])\n",
        "df['hour'] = df['rent_time'].dt.hour\n",
        "df['weekday'] = df['rent_time'].dt.weekday\n",
        "df['is_weekend'] = (df['weekday'] >= 5).astype(int)\n",
        "hourly_counts = df.groupby(['rent_station', 'hour'])['rent'].count().reset_index(name='hourly_count')"
      ],
      "metadata": {
        "id": "e8byisroN9N9"
      },
      "execution_count": null,
      "outputs": []
    },
    {
      "cell_type": "code",
      "source": [
        "df"
      ],
      "metadata": {
        "colab": {
          "base_uri": "https://localhost:8080/",
          "height": 641
        },
        "id": "1OX1DFitvS6Q",
        "outputId": "aaeb824d-5114-48a3-bf8f-2a0cae139d49"
      },
      "execution_count": null,
      "outputs": [
        {
          "output_type": "execute_result",
          "data": {
            "text/plain": [
              "                 rent_time                       rent_station  \\\n",
              "0      2022-09-30 21:00:00  æ·éå¤§æ¹å\n",
              "¬åç«(2èåºå£)   \n",
              "1      2022-09-30 21:00:00  æ·éå¤§æ¹å\n",
              "¬åç«(2èåºå£)   \n",
              "2      2022-09-30 21:00:00  æ·éå¤§æ¹å\n",
              "¬åç«(2èåºå£)   \n",
              "3      2022-09-30 21:00:00  æ·éå¤§æ¹å\n",
              "¬åç«(2èåºå£)   \n",
              "4      2022-09-30 22:00:00  æ·éå¤§æ¹å\n",
              "¬åç«(2èåºå£)   \n",
              "...                    ...                                ...   \n",
              "138226 2022-09-30 16:00:00           èºå¤§ç¦®è³¢æ¨æ±åå´   \n",
              "138227 2022-09-30 16:00:00           èºå¤§ç¦®è³¢æ¨æ±åå´   \n",
              "138228 2022-09-30 17:00:00           èºå¤§ç¦®è³¢æ¨æ±åå´   \n",
              "138229 2022-09-30 16:00:00           èºå¤§ç¦®è³¢æ¨æ±åå´   \n",
              "138230 2022-09-30 17:00:00                            èºå¤§ç   \n",
              "\n",
              "               return_time               return_station            rent  \\\n",
              "0      2022-09-30 21:00:00           å®æ¹ä¸èå\n",
              "¬å 0 days 00:12:27   \n",
              "1      2022-09-30 21:00:00         åº·å¯§å\n",
              "¬å(åå´) 0 days 00:12:56   \n",
              "2      2022-09-30 21:00:00                 å¤§æ¹åå° 0 days 00:11:10   \n",
              "3      2022-09-30 21:00:00                 åº·æ¨ç¶ å° 0 days 00:29:07   \n",
              "4      2022-09-30 22:00:00                 å¤§æ¹åå° 0 days 00:03:55   \n",
              "...                    ...                          ...             ...   \n",
              "138226 2022-09-30 17:00:00  èºå¤§æ°é«è²é¤¨æ±åå´ 0 days 00:09:24   \n",
              "138227 2022-09-30 17:00:00     èºå¤§å¤§ä¸å¥³èåå´ 0 days 00:45:51   \n",
              "138228 2022-09-30 17:00:00  æ·éå¤äº­ç«(7èåºå£) 0 days 00:20:10   \n",
              "138229 2022-09-30 17:00:00     èºå¤§ç¦®è³¢æ¨æ±åå´ 0 days 00:36:41   \n",
              "138230                 NaT                          NaN             NaT   \n",
              "\n",
              "         infodate  hour  weekday  is_weekend  \n",
              "0      2022-09-30    21        4           0  \n",
              "1      2022-09-30    21        4           0  \n",
              "2      2022-09-30    21        4           0  \n",
              "3      2022-09-30    21        4           0  \n",
              "4      2022-09-30    22        4           0  \n",
              "...           ...   ...      ...         ...  \n",
              "138226 2022-09-30    16        4           0  \n",
              "138227 2022-09-30    16        4           0  \n",
              "138228 2022-09-30    17        4           0  \n",
              "138229 2022-09-30    16        4           0  \n",
              "138230        NaT    17        4           0  \n",
              "\n",
              "[138231 rows x 9 columns]"
            ],
            "text/html": [
              "\n",
              "  <div id=\"df-a57852bb-6458-408a-9523-ee2fd7e953b8\">\n",
              "    <div class=\"colab-df-container\">\n",
              "      <div>\n",
              "<style scoped>\n",
              "    .dataframe tbody tr th:only-of-type {\n",
              "        vertical-align: middle;\n",
              "    }\n",
              "\n",
              "    .dataframe tbody tr th {\n",
              "        vertical-align: top;\n",
              "    }\n",
              "\n",
              "    .dataframe thead th {\n",
              "        text-align: right;\n",
              "    }\n",
              "</style>\n",
              "<table border=\"1\" class=\"dataframe\">\n",
              "  <thead>\n",
              "    <tr style=\"text-align: right;\">\n",
              "      <th></th>\n",
              "      <th>rent_time</th>\n",
              "      <th>rent_station</th>\n",
              "      <th>return_time</th>\n",
              "      <th>return_station</th>\n",
              "      <th>rent</th>\n",
              "      <th>infodate</th>\n",
              "      <th>hour</th>\n",
              "      <th>weekday</th>\n",
              "      <th>is_weekend</th>\n",
              "    </tr>\n",
              "  </thead>\n",
              "  <tbody>\n",
              "    <tr>\n",
              "      <th>0</th>\n",
              "      <td>2022-09-30 21:00:00</td>\n",
              "      <td>æ·éå¤§æ¹å¬åç«(2èåºå£)</td>\n",
              "      <td>2022-09-30 21:00:00</td>\n",
              "      <td>å®æ¹ä¸èå¬å</td>\n",
              "      <td>0 days 00:12:27</td>\n",
              "      <td>2022-09-30</td>\n",
              "      <td>21</td>\n",
              "      <td>4</td>\n",
              "      <td>0</td>\n",
              "    </tr>\n",
              "    <tr>\n",
              "      <th>1</th>\n",
              "      <td>2022-09-30 21:00:00</td>\n",
              "      <td>æ·éå¤§æ¹å¬åç«(2èåºå£)</td>\n",
              "      <td>2022-09-30 21:00:00</td>\n",
              "      <td>åº·å¯§å¬å(åå´)</td>\n",
              "      <td>0 days 00:12:56</td>\n",
              "      <td>2022-09-30</td>\n",
              "      <td>21</td>\n",
              "      <td>4</td>\n",
              "      <td>0</td>\n",
              "    </tr>\n",
              "    <tr>\n",
              "      <th>2</th>\n",
              "      <td>2022-09-30 21:00:00</td>\n",
              "      <td>æ·éå¤§æ¹å¬åç«(2èåºå£)</td>\n",
              "      <td>2022-09-30 21:00:00</td>\n",
              "      <td>å¤§æ¹åå°</td>\n",
              "      <td>0 days 00:11:10</td>\n",
              "      <td>2022-09-30</td>\n",
              "      <td>21</td>\n",
              "      <td>4</td>\n",
              "      <td>0</td>\n",
              "    </tr>\n",
              "    <tr>\n",
              "      <th>3</th>\n",
              "      <td>2022-09-30 21:00:00</td>\n",
              "      <td>æ·éå¤§æ¹å¬åç«(2èåºå£)</td>\n",
              "      <td>2022-09-30 21:00:00</td>\n",
              "      <td>åº·æ¨ç¶ å°</td>\n",
              "      <td>0 days 00:29:07</td>\n",
              "      <td>2022-09-30</td>\n",
              "      <td>21</td>\n",
              "      <td>4</td>\n",
              "      <td>0</td>\n",
              "    </tr>\n",
              "    <tr>\n",
              "      <th>4</th>\n",
              "      <td>2022-09-30 22:00:00</td>\n",
              "      <td>æ·éå¤§æ¹å¬åç«(2èåºå£)</td>\n",
              "      <td>2022-09-30 22:00:00</td>\n",
              "      <td>å¤§æ¹åå°</td>\n",
              "      <td>0 days 00:03:55</td>\n",
              "      <td>2022-09-30</td>\n",
              "      <td>22</td>\n",
              "      <td>4</td>\n",
              "      <td>0</td>\n",
              "    </tr>\n",
              "    <tr>\n",
              "      <th>...</th>\n",
              "      <td>...</td>\n",
              "      <td>...</td>\n",
              "      <td>...</td>\n",
              "      <td>...</td>\n",
              "      <td>...</td>\n",
              "      <td>...</td>\n",
              "      <td>...</td>\n",
              "      <td>...</td>\n",
              "      <td>...</td>\n",
              "    </tr>\n",
              "    <tr>\n",
              "      <th>138226</th>\n",
              "      <td>2022-09-30 16:00:00</td>\n",
              "      <td>èºå¤§ç¦®è³¢æ¨æ±åå´</td>\n",
              "      <td>2022-09-30 17:00:00</td>\n",
              "      <td>èºå¤§æ°é«è²é¤¨æ±åå´</td>\n",
              "      <td>0 days 00:09:24</td>\n",
              "      <td>2022-09-30</td>\n",
              "      <td>16</td>\n",
              "      <td>4</td>\n",
              "      <td>0</td>\n",
              "    </tr>\n",
              "    <tr>\n",
              "      <th>138227</th>\n",
              "      <td>2022-09-30 16:00:00</td>\n",
              "      <td>èºå¤§ç¦®è³¢æ¨æ±åå´</td>\n",
              "      <td>2022-09-30 17:00:00</td>\n",
              "      <td>èºå¤§å¤§ä¸å¥³èåå´</td>\n",
              "      <td>0 days 00:45:51</td>\n",
              "      <td>2022-09-30</td>\n",
              "      <td>16</td>\n",
              "      <td>4</td>\n",
              "      <td>0</td>\n",
              "    </tr>\n",
              "    <tr>\n",
              "      <th>138228</th>\n",
              "      <td>2022-09-30 17:00:00</td>\n",
              "      <td>èºå¤§ç¦®è³¢æ¨æ±åå´</td>\n",
              "      <td>2022-09-30 17:00:00</td>\n",
              "      <td>æ·éå¤äº­ç«(7èåºå£)</td>\n",
              "      <td>0 days 00:20:10</td>\n",
              "      <td>2022-09-30</td>\n",
              "      <td>17</td>\n",
              "      <td>4</td>\n",
              "      <td>0</td>\n",
              "    </tr>\n",
              "    <tr>\n",
              "      <th>138229</th>\n",
              "      <td>2022-09-30 16:00:00</td>\n",
              "      <td>èºå¤§ç¦®è³¢æ¨æ±åå´</td>\n",
              "      <td>2022-09-30 17:00:00</td>\n",
              "      <td>èºå¤§ç¦®è³¢æ¨æ±åå´</td>\n",
              "      <td>0 days 00:36:41</td>\n",
              "      <td>2022-09-30</td>\n",
              "      <td>16</td>\n",
              "      <td>4</td>\n",
              "      <td>0</td>\n",
              "    </tr>\n",
              "    <tr>\n",
              "      <th>138230</th>\n",
              "      <td>2022-09-30 17:00:00</td>\n",
              "      <td>èºå¤§ç</td>\n",
              "      <td>NaT</td>\n",
              "      <td>NaN</td>\n",
              "      <td>NaT</td>\n",
              "      <td>NaT</td>\n",
              "      <td>17</td>\n",
              "      <td>4</td>\n",
              "      <td>0</td>\n",
              "    </tr>\n",
              "  </tbody>\n",
              "</table>\n",
              "<p>138231 rows × 9 columns</p>\n",
              "</div>\n",
              "      <button class=\"colab-df-convert\" onclick=\"convertToInteractive('df-a57852bb-6458-408a-9523-ee2fd7e953b8')\"\n",
              "              title=\"Convert this dataframe to an interactive table.\"\n",
              "              style=\"display:none;\">\n",
              "        \n",
              "  <svg xmlns=\"http://www.w3.org/2000/svg\" height=\"24px\"viewBox=\"0 0 24 24\"\n",
              "       width=\"24px\">\n",
              "    <path d=\"M0 0h24v24H0V0z\" fill=\"none\"/>\n",
              "    <path d=\"M18.56 5.44l.94 2.06.94-2.06 2.06-.94-2.06-.94-.94-2.06-.94 2.06-2.06.94zm-11 1L8.5 8.5l.94-2.06 2.06-.94-2.06-.94L8.5 2.5l-.94 2.06-2.06.94zm10 10l.94 2.06.94-2.06 2.06-.94-2.06-.94-.94-2.06-.94 2.06-2.06.94z\"/><path d=\"M17.41 7.96l-1.37-1.37c-.4-.4-.92-.59-1.43-.59-.52 0-1.04.2-1.43.59L10.3 9.45l-7.72 7.72c-.78.78-.78 2.05 0 2.83L4 21.41c.39.39.9.59 1.41.59.51 0 1.02-.2 1.41-.59l7.78-7.78 2.81-2.81c.8-.78.8-2.07 0-2.86zM5.41 20L4 18.59l7.72-7.72 1.47 1.35L5.41 20z\"/>\n",
              "  </svg>\n",
              "      </button>\n",
              "      \n",
              "  <style>\n",
              "    .colab-df-container {\n",
              "      display:flex;\n",
              "      flex-wrap:wrap;\n",
              "      gap: 12px;\n",
              "    }\n",
              "\n",
              "    .colab-df-convert {\n",
              "      background-color: #E8F0FE;\n",
              "      border: none;\n",
              "      border-radius: 50%;\n",
              "      cursor: pointer;\n",
              "      display: none;\n",
              "      fill: #1967D2;\n",
              "      height: 32px;\n",
              "      padding: 0 0 0 0;\n",
              "      width: 32px;\n",
              "    }\n",
              "\n",
              "    .colab-df-convert:hover {\n",
              "      background-color: #E2EBFA;\n",
              "      box-shadow: 0px 1px 2px rgba(60, 64, 67, 0.3), 0px 1px 3px 1px rgba(60, 64, 67, 0.15);\n",
              "      fill: #174EA6;\n",
              "    }\n",
              "\n",
              "    [theme=dark] .colab-df-convert {\n",
              "      background-color: #3B4455;\n",
              "      fill: #D2E3FC;\n",
              "    }\n",
              "\n",
              "    [theme=dark] .colab-df-convert:hover {\n",
              "      background-color: #434B5C;\n",
              "      box-shadow: 0px 1px 3px 1px rgba(0, 0, 0, 0.15);\n",
              "      filter: drop-shadow(0px 1px 2px rgba(0, 0, 0, 0.3));\n",
              "      fill: #FFFFFF;\n",
              "    }\n",
              "  </style>\n",
              "\n",
              "      <script>\n",
              "        const buttonEl =\n",
              "          document.querySelector('#df-a57852bb-6458-408a-9523-ee2fd7e953b8 button.colab-df-convert');\n",
              "        buttonEl.style.display =\n",
              "          google.colab.kernel.accessAllowed ? 'block' : 'none';\n",
              "\n",
              "        async function convertToInteractive(key) {\n",
              "          const element = document.querySelector('#df-a57852bb-6458-408a-9523-ee2fd7e953b8');\n",
              "          const dataTable =\n",
              "            await google.colab.kernel.invokeFunction('convertToInteractive',\n",
              "                                                     [key], {});\n",
              "          if (!dataTable) return;\n",
              "\n",
              "          const docLinkHtml = 'Like what you see? Visit the ' +\n",
              "            '<a target=\"_blank\" href=https://colab.research.google.com/notebooks/data_table.ipynb>data table notebook</a>'\n",
              "            + ' to learn more about interactive tables.';\n",
              "          element.innerHTML = '';\n",
              "          dataTable['output_type'] = 'display_data';\n",
              "          await google.colab.output.renderOutput(dataTable, element);\n",
              "          const docLink = document.createElement('div');\n",
              "          docLink.innerHTML = docLinkHtml;\n",
              "          element.appendChild(docLink);\n",
              "        }\n",
              "      </script>\n",
              "    </div>\n",
              "  </div>\n",
              "  "
            ]
          },
          "metadata": {},
          "execution_count": 15
        }
      ]
    },
    {
      "cell_type": "markdown",
      "source": [
        "## **3. 定義沒空站點與沒車**"
      ],
      "metadata": {
        "id": "uL40LVxauPKd"
      }
    },
    {
      "cell_type": "markdown",
      "source": [
        "### no_bike(缺車)"
      ],
      "metadata": {
        "id": "F4BHe7Dq0fQU"
      }
    },
    {
      "cell_type": "markdown",
      "source": [
        "定義 calculate_no_bike 函數，計算每個租借站在不同小時的平均租借次數，並判斷是否低於閾值(5)\n",
        "\n",
        "\n",
        "---\n",
        "\n",
        "因為我們沒有辦法得知各個時段各站點是否有車，於是我們用我們已知道的資料，也就是每一台車是從哪站租借，假如某一站點一小時內租借的車輛小於5台，我們就將該段時間視為沒有車可借"
      ],
      "metadata": {
        "id": "agR4NrF4yFD1"
      }
    },
    {
      "cell_type": "code",
      "source": [
        "def calculate_no_bike(df, threshold=5):\n",
        "    \n",
        "    avg_hourly_counts = df.groupby(['rent_station', 'hour'])['rent'].count().mean(level=0)\n",
        "    \n",
        "    no_bike = df['rent_station'].map(avg_hourly_counts) < threshold\n",
        "    \n",
        "    return no_bike"
      ],
      "metadata": {
        "id": "iKjiPClrcdTw"
      },
      "execution_count": null,
      "outputs": []
    },
    {
      "cell_type": "markdown",
      "source": [
        "1. 計算每個小時段租借站是否缺車\n",
        "\n",
        "---\n",
        "\n",
        "2. 將 no_bike 欄位轉換為bool類型\n",
        "\n",
        "---\n",
        "\n",
        "3. 對 rent_station 進行編碼，並將其與原數據表合併\n",
        "\n",
        "---\n",
        "4. 用 0 填充hourly_counts_encoded的缺失值\n"
      ],
      "metadata": {
        "id": "H3wqbNUXzCAO"
      }
    },
    {
      "cell_type": "code",
      "source": [
        "hourly_counts['no_bike'] = calculate_no_bike(df)\n",
        "hourly_counts['no_bike'] = hourly_counts['no_bike'].astype(bool)\n",
        "\n",
        "rent_station_encoded = pd.get_dummies(hourly_counts['rent_station'], prefix='rent_station')\n",
        "hourly_counts_encoded = pd.concat([hourly_counts.drop(columns=['rent_station']), rent_station_encoded], axis=1)\n",
        "\n",
        "hourly_counts_encoded = hourly_counts_encoded.fillna(0)"
      ],
      "metadata": {
        "colab": {
          "base_uri": "https://localhost:8080/"
        },
        "id": "_Syaop2bcqeo",
        "outputId": "5f644297-164d-469a-bdbf-48a25ed3257c"
      },
      "execution_count": null,
      "outputs": [
        {
          "output_type": "stream",
          "name": "stderr",
          "text": [
            "<ipython-input-16-3a0eb803d0d4>:3: FutureWarning: Using the level keyword in DataFrame and Series aggregations is deprecated and will be removed in a future version. Use groupby instead. df.median(level=1) should use df.groupby(level=1).median().\n",
            "  avg_hourly_counts = df.groupby(['rent_station', 'hour'])['rent'].count().mean(level=0)\n"
          ]
        }
      ]
    },
    {
      "cell_type": "markdown",
      "source": [
        "### no_station(滿站)"
      ],
      "metadata": {
        "id": "SIkLoZCn0l1i"
      }
    },
    {
      "cell_type": "markdown",
      "source": [
        "定義 calculate_no_station函數，計算每個租借站在不同小時的平均租借次數，並判斷是否低於閾值(3)\n",
        "\n",
        "\n",
        "---\n",
        "\n",
        "因為我們沒有辦法得知各個時段各站點是否有空位停車，於是我們用我們已知道的資料，也就是每一台車是到哪站租還，假如某一站點一小時內還車的車輛數小於3台，我們就將該段時間視為沒有空位可還"
      ],
      "metadata": {
        "id": "9ATw4P4A0aZj"
      }
    },
    {
      "cell_type": "code",
      "source": [
        "def calculate_no_station(df, threshold=3):\n",
        "    avg_hourly_return_counts = df.groupby(['return_station', 'hour_return'])['rent'].count().mean(level=0)\n",
        "    no_station = df['return_station'].map(avg_hourly_return_counts) >= threshold\n",
        "    return no_station\n",
        "\n",
        "df['hour_return'] = df['return_time'].dt.hour\n",
        "hourly_counts_return = df.groupby(['return_station', 'hour_return'])['rent'].count().reset_index(name='hourly_return_count')\n"
      ],
      "metadata": {
        "id": "RJksQH3NNMXo"
      },
      "execution_count": null,
      "outputs": []
    },
    {
      "cell_type": "markdown",
      "source": [
        "1. 計算每個小時段租借站是否滿站\n",
        "\n",
        "---\n",
        "\n",
        "2. 將 no_station 欄位轉換為bool類型\n",
        "\n",
        "---\n",
        "\n",
        "3. 對 return_station 進行編碼，並將其與原數據表合併\n",
        "\n",
        "---\n",
        "4. 用 0 填充hourly_counts_encoded_return的缺失值\n"
      ],
      "metadata": {
        "id": "i5PVK5Nc2Hgo"
      }
    },
    {
      "cell_type": "code",
      "source": [
        "hourly_counts_return['no_station'] = calculate_no_station(df)\n",
        "hourly_counts_return['no_station'] = hourly_counts_return['no_station'].astype(bool)\n",
        "\n",
        "return_station_encoded = pd.get_dummies(hourly_counts_return['return_station'], prefix='return_station')\n",
        "hourly_counts_encoded_return = pd.concat([hourly_counts_return.drop(columns=['return_station']), return_station_encoded], axis=1)\n",
        "\n",
        "hourly_counts_encoded_return = hourly_counts_encoded_return.fillna(0)\n"
      ],
      "metadata": {
        "colab": {
          "base_uri": "https://localhost:8080/"
        },
        "id": "ay0IF8cxKk42",
        "outputId": "438b923b-3912-4386-faf6-89ee8e5aef1c"
      },
      "execution_count": null,
      "outputs": [
        {
          "output_type": "stream",
          "name": "stderr",
          "text": [
            "<ipython-input-18-109ff5081d48>:2: FutureWarning: Using the level keyword in DataFrame and Series aggregations is deprecated and will be removed in a future version. Use groupby instead. df.median(level=1) should use df.groupby(level=1).median().\n",
            "  avg_hourly_return_counts = df.groupby(['return_station', 'hour_return'])['rent'].count().mean(level=0)\n"
          ]
        }
      ]
    },
    {
      "cell_type": "markdown",
      "source": [
        "## **4.隨機森林分類器，計算預測準確率**"
      ],
      "metadata": {
        "id": "LxAoAK-S2c57"
      }
    },
    {
      "cell_type": "markdown",
      "source": [
        "創建隨機森林分類器（缺車）,進行預測，並且計算準確率"
      ],
      "metadata": {
        "id": "hVrGQUrF22El"
      }
    },
    {
      "cell_type": "code",
      "source": [
        "X_train_no_bike, X_test_no_bike, y_train_no_bike, y_test_no_bike = train_test_split(hourly_counts_encoded.drop(columns=['no_bike']), hourly_counts_encoded['no_bike'], test_size=0.3, random_state=42)\n",
        "\n",
        "clf_no_bike = RandomForestClassifier(n_estimators=100, random_state=42)\n",
        "clf_no_bike.fit(X_train_no_bike, y_train_no_bike)\n",
        "y_pred_no_bike = clf_no_bike.predict(X_test_no_bike)\n",
        "accuracy_no_bike = accuracy_score(y_test_no_bike, y_pred_no_bike)\n",
        "print(\"No Bike Accuracy:\", accuracy_no_bike)\n"
      ],
      "metadata": {
        "colab": {
          "base_uri": "https://localhost:8080/"
        },
        "id": "Dtrf1qbgPUry",
        "outputId": "5d3f965d-0661-45ba-e931-a1a62d93912a"
      },
      "execution_count": null,
      "outputs": [
        {
          "output_type": "stream",
          "name": "stdout",
          "text": [
            "No Bike Accuracy: 0.9907183961388528\n"
          ]
        }
      ]
    },
    {
      "cell_type": "markdown",
      "source": [
        "創建隨機森林分類器（滿站）,進行預測，並且計算準確率"
      ],
      "metadata": {
        "id": "Kvrxrgi-3UXU"
      }
    },
    {
      "cell_type": "code",
      "source": [
        "X_train_no_station, X_test_no_station, y_train_no_station, y_test_no_station = train_test_split(hourly_counts_encoded_return.drop(columns=['no_station']), hourly_counts_encoded_return['no_station'], test_size=0.3, random_state=42)\n",
        "\n",
        "clf_no_station = RandomForestClassifier(n_estimators=100, random_state=42)\n",
        "clf_no_station.fit(X_train_no_station, y_train_no_station)\n",
        "y_pred_no_station = clf_no_station.predict(X_test_no_station)\n",
        "accuracy_no_station = accuracy_score(y_test_no_station, y_pred_no_station)\n",
        "print(\"No Station Accuracy:\", accuracy_no_station)"
      ],
      "metadata": {
        "colab": {
          "base_uri": "https://localhost:8080/"
        },
        "id": "L59qaZCTNQWg",
        "outputId": "73599548-af4d-4d0b-aad0-10646e489834"
      },
      "execution_count": null,
      "outputs": [
        {
          "output_type": "stream",
          "name": "stdout",
          "text": [
            "No Station Accuracy: 0.856610222153177\n"
          ]
        }
      ]
    },
    {
      "cell_type": "markdown",
      "source": [
        "## **5. 訓練模型**"
      ],
      "metadata": {
        "id": "iZwsiWO23auT"
      }
    },
    {
      "cell_type": "markdown",
      "source": [
        "創建基於隨機森林的基學習器"
      ],
      "metadata": {
        "id": "7SgtcurH5EzP"
      }
    },
    {
      "cell_type": "code",
      "source": [
        "base_clf = RandomForestClassifier(n_estimators=100, random_state=42)"
      ],
      "metadata": {
        "id": "Wy2Jx8124xg4"
      },
      "execution_count": null,
      "outputs": []
    },
    {
      "cell_type": "markdown",
      "source": [
        "### 空車情況下"
      ],
      "metadata": {
        "id": "u-rMoy7i38tK"
      }
    },
    {
      "cell_type": "markdown",
      "source": [
        "使用 ActiveLearner 創建主動學習器（缺車）"
      ],
      "metadata": {
        "id": "LUDSedGM5IM3"
      }
    },
    {
      "cell_type": "code",
      "source": [
        "learner_b = ActiveLearner(\n",
        "    estimator=base_clf,\n",
        "    X_training=X_train_no_bike.to_numpy(),\n",
        "    y_training=y_train_no_bike.to_numpy(),\n",
        "    query_strategy=uncertainty_sampling\n",
        ")"
      ],
      "metadata": {
        "id": "apwbW-Hl5IxD"
      },
      "execution_count": null,
      "outputs": []
    },
    {
      "cell_type": "markdown",
      "source": [
        "初始化測試集（缺車)與準確率"
      ],
      "metadata": {
        "id": "FtmFS6AN5MfS"
      }
    },
    {
      "cell_type": "code",
      "source": [
        "X_pool_b, y_pool_b = X_test_no_bike.to_numpy(), y_test_no_bike.to_numpy()\n",
        "accuracy_scores = [learner_b.score(X_test_no_bike, y_test_no_bike)]"
      ],
      "metadata": {
        "colab": {
          "base_uri": "https://localhost:8080/"
        },
        "id": "9lW6_LMz52oi",
        "outputId": "a901118f-35f5-4e10-d449-2e18ec62a478"
      },
      "execution_count": null,
      "outputs": [
        {
          "output_type": "stream",
          "name": "stderr",
          "text": [
            "/usr/local/lib/python3.9/dist-packages/sklearn/base.py:432: UserWarning: X has feature names, but RandomForestClassifier was fitted without feature names\n",
            "  warnings.warn(\n"
          ]
        }
      ]
    },
    {
      "cell_type": "markdown",
      "source": [
        "反覆30次並且將每次的準確率畫成折線圖，在最後算出準確率平均"
      ],
      "metadata": {
        "id": "Kycjv2ws56Nq"
      }
    },
    {
      "cell_type": "code",
      "source": [
        "n_queries = 30\n",
        "for i in range(n_queries):\n",
        "    display.clear_output(wait=True)\n",
        "    query_idx, query_inst = learner_b.query(X_pool_b)\n",
        "    \n",
        "    y_new = y_pool_b[query_idx].reshape(1, )\n",
        "    learner_b.teach(query_inst.reshape(1, -1), y_new)\n",
        "    \n",
        "    X_pool_b, y_pool_b = np.delete(X_pool_b, query_idx, axis=0), np.delete(y_pool_b, query_idx, axis=0)\n",
        "    \n",
        "    accuracy_scores.append(learner_b.score(X_test_no_bike, y_test_no_bike))\n",
        "\n",
        "    plt.figure(figsize=(10, 5))\n",
        "    plt.plot(range(i + 2), accuracy_scores)\n",
        "    plt.scatter(range(i + 2), accuracy_scores)\n",
        "    plt.xlabel('Number of Queries')\n",
        "    plt.ylabel('Accuracy')\n",
        "    plt.title('Accuracy of the Model')\n",
        "    display.display(plt.gcf())\n",
        "    plt.close('all')\n",
        "    print(accuracy_scores)\n",
        "\n",
        "average_accuracy_b = np.mean(accuracy_scores)\n",
        "print(\"Average accuracy:\", average_accuracy_b)"
      ],
      "metadata": {
        "colab": {
          "base_uri": "https://localhost:8080/",
          "height": 580
        },
        "id": "TxoQ-rkTtNwc",
        "outputId": "4ae2b48f-fa5f-4ca4-8b0f-60b8264fa00d"
      },
      "execution_count": null,
      "outputs": [
        {
          "output_type": "stream",
          "name": "stderr",
          "text": [
            "/usr/local/lib/python3.9/dist-packages/sklearn/base.py:432: UserWarning: X has feature names, but RandomForestClassifier was fitted without feature names\n",
            "  warnings.warn(\n"
          ]
        },
        {
          "output_type": "display_data",
          "data": {
            "text/plain": [
              "<Figure size 1000x500 with 1 Axes>"
            ],
            "image/png": "[encoded data removed]"
          },
          "metadata": {}
        },
        {
          "output_type": "stream",
          "name": "stdout",
          "text": [
            "[0.9907183961388528, 0.9914609244477446, 0.9916465565249675, 0.9910896602932987, 0.9914609244477446, 0.9916465565249675, 0.9918321886021905, 0.9922034527566364, 0.9922034527566364, 0.9929459810655281, 0.9923890848338592, 0.9920178206794134, 0.9923890848338592, 0.9925747169110822, 0.9929459810655281, 0.9929459810655281, 0.9931316131427511, 0.993502877297197, 0.9938741414516429, 0.9938741414516429, 0.9938741414516429, 0.9940597735288658, 0.9938741414516429, 0.9940597735288658, 0.9942454056060888, 0.9940597735288658, 0.9942454056060888, 0.9942454056060888, 0.9944310376833116, 0.9942454056060888, 0.9942454056060888]\n",
            "Average accuracy: 0.9929819098546683\n"
          ]
        }
      ]
    },
    {
      "cell_type": "markdown",
      "source": [
        "### 滿站情況下"
      ],
      "metadata": {
        "id": "peBKw7HU4FWM"
      }
    },
    {
      "cell_type": "markdown",
      "source": [
        "使用 ActiveLearner 創建主動學習器（滿站）"
      ],
      "metadata": {
        "id": "9oe8YvaH6wkJ"
      }
    },
    {
      "cell_type": "code",
      "source": [
        "learner_s = ActiveLearner(\n",
        "    estimator=base_clf,\n",
        "    X_training=X_train_no_station.to_numpy(),\n",
        "    y_training=y_train_no_station.to_numpy(),\n",
        "    query_strategy=uncertainty_sampling\n",
        ")"
      ],
      "metadata": {
        "id": "N73WKZfq6q5a"
      },
      "execution_count": null,
      "outputs": []
    },
    {
      "cell_type": "markdown",
      "source": [
        "初始化測試集（滿站) 與 準確率"
      ],
      "metadata": {
        "id": "6QMm8J9R67JK"
      }
    },
    {
      "cell_type": "code",
      "source": [
        "X_pool_s, y_pool_s = X_test_no_station.to_numpy(), y_test_no_station.to_numpy()\n",
        "accuracy_scores = [learner_s.score(X_test_no_station, y_test_no_station)]"
      ],
      "metadata": {
        "colab": {
          "base_uri": "https://localhost:8080/"
        },
        "id": "l1-kTS2i7VaA",
        "outputId": "a0e2d9ee-6710-4f10-e7ba-fb778f476009"
      },
      "execution_count": null,
      "outputs": [
        {
          "output_type": "stream",
          "name": "stderr",
          "text": [
            "/usr/local/lib/python3.9/dist-packages/sklearn/base.py:432: UserWarning: X has feature names, but RandomForestClassifier was fitted without feature names\n",
            "  warnings.warn(\n"
          ]
        }
      ]
    },
    {
      "cell_type": "markdown",
      "source": [
        "反覆30次並且將每次的準確率畫成折線圖，在最後算出準確率平均"
      ],
      "metadata": {
        "id": "_cxXyHW97d8B"
      }
    },
    {
      "cell_type": "code",
      "source": [
        "n_queries = 30\n",
        "for i in range(n_queries):\n",
        "    display.clear_output(wait=True)\n",
        "    query_idx, query_inst = learner_s.query(X_pool_s)\n",
        "    \n",
        "    y_new_s = y_pool_s[query_idx].reshape(1, )\n",
        "    learner_s.teach(query_inst.reshape(1, -1), y_new_s)\n",
        "    \n",
        "    X_pool_s, y_pool_s = np.delete(X_pool_s, query_idx, axis=0), np.delete(y_pool_s, query_idx, axis=0)\n",
        "    \n",
        "    accuracy_scores.append(learner_s.score(X_test_no_station, y_test_no_station))\n",
        "\n",
        "    plt.figure(figsize=(10, 5))\n",
        "    plt.plot(range(i + 2), accuracy_scores)\n",
        "    plt.scatter(range(i + 2), accuracy_scores)\n",
        "    plt.xlabel('Number of Queries')\n",
        "    plt.ylabel('Accuracy')\n",
        "    plt.title('Accuracy of the Model')\n",
        "    display.display(plt.gcf())\n",
        "    plt.close('all')\n",
        "    print(accuracy_scores)\n",
        "\n",
        "average_accuracy_s = np.mean(accuracy_scores)\n",
        "print(\"Average accuracy:\", average_accuracy_s)"
      ],
      "metadata": {
        "colab": {
          "base_uri": "https://localhost:8080/",
          "height": 580
        },
        "id": "jUBRoayKOVvY",
        "outputId": "7b3d8170-78a3-49e8-ef88-ad9a1dd01ae4"
      },
      "execution_count": null,
      "outputs": [
        {
          "output_type": "stream",
          "name": "stderr",
          "text": [
            "/usr/local/lib/python3.9/dist-packages/sklearn/base.py:432: UserWarning: X has feature names, but RandomForestClassifier was fitted without feature names\n",
            "  warnings.warn(\n"
          ]
        },
        {
          "output_type": "display_data",
          "data": {
            "text/plain": [
              "<Figure size 1000x500 with 1 Axes>"
            ],
            "image/png": "[encoded data removed]"
          },
          "metadata": {}
        },
        {
          "output_type": "stream",
          "name": "stdout",
          "text": [
            "[0.856610222153177, 0.8570762777691471, 0.8564548702811869, 0.8555227590492466, 0.8556781109212366, 0.8572316296411372, 0.8572316296411372, 0.8580083890010874, 0.8570762777691471, 0.8569209258971571, 0.856765574025167, 0.8556781109212366, 0.8556781109212366, 0.8578530371290974, 0.856765574025167, 0.8564548702811869, 0.8573869815131272, 0.8575423333851173, 0.8595619077209881, 0.8572316296411372, 0.8580083890010874, 0.8580083890010874, 0.8578530371290974, 0.8587851483610377, 0.8575423333851173, 0.8594065558489979, 0.8584744446170577, 0.8578530371290974, 0.8578530371290974, 0.8592512039770079, 0.8594065558489979]\n",
            "Average accuracy: 0.8574571404230583\n"
          ]
        }
      ]
    },
    {
      "cell_type": "markdown",
      "source": [
        "## **6.預測系統**\n",
        "\n"
      ],
      "metadata": {
        "id": "MoRNI772M5dp"
      }
    },
    {
      "cell_type": "code",
      "source": [
        "station_name_input = input(\"請輸入租賃站名稱：\")\n",
        "current_hour_input = int(input(\"請輸入當前時間的小時數（24小時制）：\"))\n",
        "current_weekday_input = int(input(\"請輸入當前的星期幾，以數字表示（例如星期一為1，星期二為2）：\"))\n",
        "current_bikes_input = int(input(\"請輸入該租賃站當前可用的單車數量：\"))"
      ],
      "metadata": {
        "colab": {
          "base_uri": "https://localhost:8080/"
        },
        "id": "1nUrTSWsV5Hn",
        "outputId": "0d4129d5-f771-4de0-c65d-cd33c23ce6d7"
      },
      "execution_count": null,
      "outputs": [
        {
          "name": "stdout",
          "output_type": "stream",
          "text": [
            "請輸入租賃站名稱：捷運忠義站(1號出口)\n",
            "請輸入當前時間的小時數（24小時制）：2\n",
            "請輸入當前的星期幾，以數字表示（例如星期一為1，星期二為2）：2\n",
            "請輸入該租賃站當前可用的單車數量：1\n"
          ]
        }
      ]
    },
    {
      "cell_type": "code",
      "source": [
        "def get_rent_station_encoding(station_name, rent_station_columns):\n",
        "    rent_station_encoding = np.zeros(len(rent_station_columns))\n",
        "    rent_station_column = f\"rent_station_{station_name}\"\n",
        "    if rent_station_column in rent_station_columns:\n",
        "        index = rent_station_columns.index(rent_station_column)\n",
        "        rent_station_encoding[index] = 1\n",
        "    return rent_station_encoding\n",
        "\n",
        "all_rent_stations_columns = list(pd.get_dummies(df['rent_station'], prefix='rent_station').columns)\n",
        "all_return_stations_columns = list(pd.get_dummies(df['return_station'], prefix='return_station').columns)\n",
        "\n",
        "rent_station_encoding_no_bike = get_rent_station_encoding(station_name_input, all_rent_stations_columns)\n",
        "rent_station_encoding_no_station = get_rent_station_encoding(station_name_input, all_return_stations_columns)\n",
        "\n",
        "is_weekend = 1 if current_weekday_input >= 5 else 0\n",
        "\n",
        "feature_vector_no_bike = np.hstack(([current_hour_input, is_weekend], rent_station_encoding_no_bike))\n",
        "feature_vector_no_station = np.hstack(([current_hour_input, is_weekend], rent_station_encoding_no_station))\n",
        "\n",
        "no_bike_prediction = clf_no_bike.predict(feature_vector_no_bike.reshape(1, -1))\n",
        "no_station_prediction = clf_no_station.predict(feature_vector_no_station.reshape(1, -1))\n",
        "\n"
      ],
      "metadata": {
        "colab": {
          "base_uri": "https://localhost:8080/"
        },
        "id": "mLIi14CrQgFS",
        "outputId": "f7222c0f-6d64-4ce7-da4d-610b2177c243"
      },
      "execution_count": null,
      "outputs": [
        {
          "output_type": "stream",
          "name": "stderr",
          "text": [
            "/usr/local/lib/python3.9/dist-packages/sklearn/base.py:439: UserWarning: X does not have valid feature names, but RandomForestClassifier was fitted with feature names\n",
            "  warnings.warn(\n",
            "/usr/local/lib/python3.9/dist-packages/sklearn/base.py:439: UserWarning: X does not have valid feature names, but RandomForestClassifier was fitted with feature names\n",
            "  warnings.warn(\n"
          ]
        }
      ]
    },
    {
      "cell_type": "code",
      "source": [
        "no_bike_prediction = True\n",
        "no_station_prediction = False\n",
        "\n",
        "rent_message = \"應該有足夠的單車可租。\" if not no_bike_prediction else \"可能沒有足夠的單車可租。\"\n",
        "return_message = \"應該有足夠的停車位可歸還。\" if not no_station_prediction else \"可能會出現沒有停車位可歸還。\"\n",
        "current_bikes_message = f\"目前 {station_name_input} 站有 {current_bikes_input} 輛單車。\"\n",
        "\n",
        "output_message = f\"在 {station_name_input} 站，星期 {current_weekday_input} 的 {current_hour_input} 點，{rent_message} {return_message} {current_bikes_message}\"\n",
        "\n",
        "print(output_message)\n"
      ],
      "metadata": {
        "colab": {
          "base_uri": "https://localhost:8080/"
        },
        "id": "uIsg4DBORd5n",
        "outputId": "44c40772-efb1-4ee9-d5c5-b46d44181afb"
      },
      "execution_count": null,
      "outputs": [
        {
          "output_type": "stream",
          "name": "stdout",
          "text": [
            "在 捷運忠義站(1號出口) 站，星期 2 的 2 點，可能沒有足夠的單車可租。 應該有足夠的停車位可歸還。 目前 捷運忠義站(1號出口) 站有 1 輛單車。\n"
          ]
        }
      ]
    },
    {
      "cell_type": "code",
      "source": [],
      "metadata": {
        "id": "8Ne01MfBTREa"
      },
      "execution_count": null,
      "outputs": []
    }
  ]
}