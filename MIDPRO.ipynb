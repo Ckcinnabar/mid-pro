{
  "nbformat": 4,
  "nbformat_minor": 0,
  "metadata": {
    "colab": {
      "provenance": []
    },
    "kernelspec": {
      "name": "python3",
      "display_name": "Python 3"
    },
    "language_info": {
      "name": "python"
    }
  },
  "cells": [
    {
      "cell_type": "code",
      "source": [
        "import pandas as pd\n",
        "import chardet\n",
        "import numpy as np\n",
        "from sklearn.model_selection import train_test_split\n",
        "from sklearn.ensemble import RandomForestClassifier\n",
        "from sklearn.metrics import accuracy_score"
      ],
      "metadata": {
        "id": "MjEKvYsjLIEG"
      },
      "execution_count": 21,
      "outputs": []
    },
    {
      "cell_type": "code",
      "source": [
        "with open('202209_YouBike2.0票證刷卡資料.csv', 'rb') as f:\n",
        "    result = chardet.detect(f.read())\n",
        "\n",
        "df = pd.read_csv('202209_YouBike2.0票證刷卡資料.csv', encoding=result['encoding'])\n",
        "df['rent_time'] = pd.to_datetime(df['rent_time'])\n",
        "df['return_time'] = pd.to_datetime(df['return_time'])\n",
        "df['rent'] = pd.to_timedelta(df['rent'])\n",
        "df['infodate'] = pd.to_datetime(df['infodate'])\n"
      ],
      "metadata": {
        "id": "1Z7rvfMGGXGw"
      },
      "execution_count": 22,
      "outputs": []
    },
    {
      "cell_type": "code",
      "source": [
        "df['hour'] = df['rent_time'].dt.hour\n",
        "df['weekday'] = df['rent_time'].dt.weekday\n",
        "df['is_weekend'] = (df['weekday'] >= 5).astype(int)\n",
        "\n",
        "hourly_counts = df.groupby(['rent_station', 'hour'])['rent'].count().reset_index(name='hourly_count')"
      ],
      "metadata": {
        "id": "onAdAeBIMFlN"
      },
      "execution_count": 48,
      "outputs": []
    },
    {
      "cell_type": "code",
      "source": [
        "def calculate_no_bike(df, threshold=0.2):\n",
        "    # 計算每個車站每小時的平均租借次數\n",
        "    avg_hourly_counts = df.groupby(['rent_station', 'hour'])['rent'].count().mean(level=0)\n",
        "    \n",
        "    # 對於每個車站，如果平均租借次數低於閾值（例如，0.2），則預測在未來一小時無車\n",
        "    no_bike = df['rent_station'].map(avg_hourly_counts) < threshold\n",
        "    \n",
        "    return no_bike\n"
      ],
      "metadata": {
        "id": "QoQpyv1FMKCk"
      },
      "execution_count": 52,
      "outputs": []
    },
    {
      "cell_type": "code",
      "source": [
        "hourly_counts['no_bike'] = hourly_counts['no_bike'].astype(bool)\n",
        "rent_station_encoded = pd.get_dummies(hourly_counts['rent_station'], prefix='rent_station')\n",
        "hourly_counts_encoded = pd.concat([hourly_counts.drop(columns=['rent_station']), rent_station_encoded], axis=1)"
      ],
      "metadata": {
        "id": "FXiffgQzM7Rz"
      },
      "execution_count": 59,
      "outputs": []
    },
    {
      "cell_type": "code",
      "source": [
        "hourly_counts_encoded = hourly_counts_encoded.fillna(0)"
      ],
      "metadata": {
        "id": "DXdyr9BVNuZo"
      },
      "execution_count": 60,
      "outputs": []
    },
    {
      "cell_type": "code",
      "source": [
        "X = hourly_counts_encoded.drop(columns=['no_bike'])\n",
        "y = hourly_counts_encoded['no_bike']"
      ],
      "metadata": {
        "id": "SgpXipCvMYgM"
      },
      "execution_count": 61,
      "outputs": []
    },
    {
      "cell_type": "code",
      "source": [
        "X_train, X_test, y_train, y_test = train_test_split(X, y, test_size=0.3, random_state=42)\n"
      ],
      "metadata": {
        "id": "i6FUHfPQM5J1"
      },
      "execution_count": 62,
      "outputs": []
    },
    {
      "cell_type": "code",
      "source": [
        "clf = RandomForestClassifier(n_estimators=100, random_state=42)\n",
        "clf.fit(X_train, y_train)"
      ],
      "metadata": {
        "colab": {
          "base_uri": "https://localhost:8080/",
          "height": 75
        },
        "id": "lbvJpOoDNFu6",
        "outputId": "97834b33-c06c-4b02-ad59-d88598939760"
      },
      "execution_count": 63,
      "outputs": [
        {
          "output_type": "execute_result",
          "data": {
            "text/plain": [
              "RandomForestClassifier(random_state=42)"
            ],
            "text/html": [
              "<style>#sk-container-id-3 {color: black;background-color: white;}#sk-container-id-3 pre{padding: 0;}#sk-container-id-3 div.sk-toggleable {background-color: white;}#sk-container-id-3 label.sk-toggleable__label {cursor: pointer;display: block;width: 100%;margin-bottom: 0;padding: 0.3em;box-sizing: border-box;text-align: center;}#sk-container-id-3 label.sk-toggleable__label-arrow:before {content: \"▸\";float: left;margin-right: 0.25em;color: #696969;}#sk-container-id-3 label.sk-toggleable__label-arrow:hover:before {color: black;}#sk-container-id-3 div.sk-estimator:hover label.sk-toggleable__label-arrow:before {color: black;}#sk-container-id-3 div.sk-toggleable__content {max-height: 0;max-width: 0;overflow: hidden;text-align: left;background-color: #f0f8ff;}#sk-container-id-3 div.sk-toggleable__content pre {margin: 0.2em;color: black;border-radius: 0.25em;background-color: #f0f8ff;}#sk-container-id-3 input.sk-toggleable__control:checked~div.sk-toggleable__content {max-height: 200px;max-width: 100%;overflow: auto;}#sk-container-id-3 input.sk-toggleable__control:checked~label.sk-toggleable__label-arrow:before {content: \"▾\";}#sk-container-id-3 div.sk-estimator input.sk-toggleable__control:checked~label.sk-toggleable__label {background-color: #d4ebff;}#sk-container-id-3 div.sk-label input.sk-toggleable__control:checked~label.sk-toggleable__label {background-color: #d4ebff;}#sk-container-id-3 input.sk-hidden--visually {border: 0;clip: rect(1px 1px 1px 1px);clip: rect(1px, 1px, 1px, 1px);height: 1px;margin: -1px;overflow: hidden;padding: 0;position: absolute;width: 1px;}#sk-container-id-3 div.sk-estimator {font-family: monospace;background-color: #f0f8ff;border: 1px dotted black;border-radius: 0.25em;box-sizing: border-box;margin-bottom: 0.5em;}#sk-container-id-3 div.sk-estimator:hover {background-color: #d4ebff;}#sk-container-id-3 div.sk-parallel-item::after {content: \"\";width: 100%;border-bottom: 1px solid gray;flex-grow: 1;}#sk-container-id-3 div.sk-label:hover label.sk-toggleable__label {background-color: #d4ebff;}#sk-container-id-3 div.sk-serial::before {content: \"\";position: absolute;border-left: 1px solid gray;box-sizing: border-box;top: 0;bottom: 0;left: 50%;z-index: 0;}#sk-container-id-3 div.sk-serial {display: flex;flex-direction: column;align-items: center;background-color: white;padding-right: 0.2em;padding-left: 0.2em;position: relative;}#sk-container-id-3 div.sk-item {position: relative;z-index: 1;}#sk-container-id-3 div.sk-parallel {display: flex;align-items: stretch;justify-content: center;background-color: white;position: relative;}#sk-container-id-3 div.sk-item::before, #sk-container-id-3 div.sk-parallel-item::before {content: \"\";position: absolute;border-left: 1px solid gray;box-sizing: border-box;top: 0;bottom: 0;left: 50%;z-index: -1;}#sk-container-id-3 div.sk-parallel-item {display: flex;flex-direction: column;z-index: 1;position: relative;background-color: white;}#sk-container-id-3 div.sk-parallel-item:first-child::after {align-self: flex-end;width: 50%;}#sk-container-id-3 div.sk-parallel-item:last-child::after {align-self: flex-start;width: 50%;}#sk-container-id-3 div.sk-parallel-item:only-child::after {width: 0;}#sk-container-id-3 div.sk-dashed-wrapped {border: 1px dashed gray;margin: 0 0.4em 0.5em 0.4em;box-sizing: border-box;padding-bottom: 0.4em;background-color: white;}#sk-container-id-3 div.sk-label label {font-family: monospace;font-weight: bold;display: inline-block;line-height: 1.2em;}#sk-container-id-3 div.sk-label-container {text-align: center;}#sk-container-id-3 div.sk-container {/* jupyter's `normalize.less` sets `[hidden] { display: none; }` but bootstrap.min.css set `[hidden] { display: none !important; }` so we also need the `!important` here to be able to override the default hidden behavior on the sphinx rendered scikit-learn.org. See: https://github.com/scikit-learn/scikit-learn/issues/21755 */display: inline-block !important;position: relative;}#sk-container-id-3 div.sk-text-repr-fallback {display: none;}</style><div id=\"sk-container-id-3\" class=\"sk-top-container\"><div class=\"sk-text-repr-fallback\"><pre>RandomForestClassifier(random_state=42)</pre><b>In a Jupyter environment, please rerun this cell to show the HTML representation or trust the notebook. <br />On GitHub, the HTML representation is unable to render, please try loading this page with nbviewer.org.</b></div><div class=\"sk-container\" hidden><div class=\"sk-item\"><div class=\"sk-estimator sk-toggleable\"><input class=\"sk-toggleable__control sk-hidden--visually\" id=\"sk-estimator-id-3\" type=\"checkbox\" checked><label for=\"sk-estimator-id-3\" class=\"sk-toggleable__label sk-toggleable__label-arrow\">RandomForestClassifier</label><div class=\"sk-toggleable__content\"><pre>RandomForestClassifier(random_state=42)</pre></div></div></div></div></div>"
            ]
          },
          "metadata": {},
          "execution_count": 63
        }
      ]
    },
    {
      "cell_type": "code",
      "source": [
        "y_pred = clf.predict(X_test)\n",
        "accuracy = accuracy_score(y_test, y_pred)\n",
        "print(\"Accuracy:\", accuracy)\n"
      ],
      "metadata": {
        "colab": {
          "base_uri": "https://localhost:8080/"
        },
        "id": "tmmmOJkzM3d1",
        "outputId": "94073165-2eab-4200-8cd9-e0c7baecd5f2"
      },
      "execution_count": 64,
      "outputs": [
        {
          "output_type": "stream",
          "name": "stdout",
          "text": [
            "Accuracy: 1.0\n"
          ]
        }
      ]
    },
    {
      "cell_type": "code",
      "source": [
        "from sklearn.model_selection import cross_val_score\n",
        "scores = cross_val_score(clf, X, y, cv=5)\n",
        "print(\"Cross-validation accuracy: %0.2f (+/- %0.2f)\" % (scores.mean(), scores.std() * 2))"
      ],
      "metadata": {
        "colab": {
          "base_uri": "https://localhost:8080/"
        },
        "id": "_oPRSD45MShU",
        "outputId": "8d5c3256-ecd9-49a2-c71d-8526455bef64"
      },
      "execution_count": 65,
      "outputs": [
        {
          "output_type": "stream",
          "name": "stdout",
          "text": [
            "Cross-validation accuracy: 1.00 (+/- 0.00)\n"
          ]
        }
      ]
    },
    {
      "cell_type": "code",
      "source": [
        "from sklearn.metrics import classification_report\n",
        "\n",
        "y_pred = clf.predict(X_test)\n",
        "report = classification_report(y_test, y_pred)\n",
        "print(report)\n"
      ],
      "metadata": {
        "colab": {
          "base_uri": "https://localhost:8080/"
        },
        "id": "sbb2BhRjP-w8",
        "outputId": "2f2585d9-e1eb-44d0-8355-b6d2dfb70434"
      },
      "execution_count": 66,
      "outputs": [
        {
          "output_type": "stream",
          "name": "stdout",
          "text": [
            "              precision    recall  f1-score   support\n",
            "\n",
            "       False       1.00      1.00      1.00      8067\n",
            "\n",
            "    accuracy                           1.00      8067\n",
            "   macro avg       1.00      1.00      1.00      8067\n",
            "weighted avg       1.00      1.00      1.00      8067\n",
            "\n"
          ]
        }
      ]
    },
    {
      "cell_type": "code",
      "source": [
        "import pandas as pd\n",
        "import chardet\n",
        "import numpy as np\n",
        "from sklearn.model_selection import train_test_split\n",
        "from sklearn.ensemble import RandomForestClassifier\n",
        "from sklearn.metrics import accuracy_score\n",
        "\n",
        "with open('202209_YouBike2.0票證刷卡資料.csv', 'rb') as f:\n",
        "    result = chardet.detect(f.read())\n",
        "\n",
        "df = pd.read_csv('202209_YouBike2.0票證刷卡資料.csv', encoding=result['encoding'])\n",
        "df['rent_time'] = pd.to_datetime(df['rent_time'])\n",
        "df['return_time'] = pd.to_datetime(df['return_time'])\n",
        "df['rent'] = pd.to_timedelta(df['rent'])\n",
        "df['infodate'] = pd.to_datetime(df['infodate'])\n",
        "\n",
        "df['hour'] = df['rent_time'].dt.hour\n",
        "df['weekday'] = df['rent_time'].dt.weekday\n",
        "df['is_weekend'] = (df['weekday'] >= 5).astype(int)\n",
        "\n",
        "hourly_counts = df.groupby(['rent_station', 'hour'])['rent'].count().reset_index(name='hourly_count')\n",
        "\n",
        "def calculate_no_bike(df, threshold=0.2):\n",
        "    # 計算每個車站每小時的平均租借次數\n",
        "    avg_hourly_counts = df.groupby(['rent_station', 'hour'])['rent'].count().mean(level=0)\n",
        "    \n",
        "    # 對於每個車站，如果平均租借次數低於閾值（例如，0.2），則預測在未來一小時無車\n",
        "    no_bike = avg_hourly_counts < threshold\n",
        "    \n",
        "    return no_bike\n",
        "\n",
        "# 使用函式計算每個車站在未來一小時是否無車\n",
        "hourly_counts['no_bike'] = calculate_no_bike(df)\n",
        "\n",
        "# 使用 pandas 的 get_dummies 函式對 rent_station 進行獨熱編碼\n",
        "rent_station_encoded = pd.get_dummies(hourly_counts['rent_station'], prefix='rent_station')\n",
        "\n",
        "# 將獨熱編碼後的車站名稱與 hourly_counts DataFrame 結合\n",
        "hourly_counts_encoded = pd.concat([hourly_counts.drop(columns=['rent_station']), rent_station_encoded], axis=1)\n",
        "\n",
        "hourly_counts_encoded = hourly_counts_encoded.fillna(0)\n",
        "\n",
        "X = hourly_counts_encoded.drop(columns=['no_bike'])\n",
        "y = hourly_counts_encoded['no_bike']\n",
        "\n",
        "X_train, X_test, y_train, y_test = train_test_split(X, y, test_size=0.3, random_state=42)\n",
        "\n",
        "clf = RandomForestClassifier(n_estimators=100, random_state=42)\n",
        "clf.fit(X_train, y_train)\n",
        "\n",
        "\n",
        "# 預測並評估模型\n",
        "y_pred = clf.predict(X_test)\n",
        "accuracy = accuracy_score(y_test, y_pred)\n",
        "print(\"Accuracy:\", accuracy)\n",
        "\n"
      ],
      "metadata": {
        "id": "mJ8bviepN96O"
      },
      "execution_count": null,
      "outputs": []
    }
  ]
}